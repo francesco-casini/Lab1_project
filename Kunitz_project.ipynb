{
 "cells": [
  {
   "cell_type": "markdown",
   "metadata": {},
   "source": [
    "# 1. Dataset generation"
   ]
  },
  {
   "cell_type": "code",
   "execution_count": 67,
   "metadata": {},
   "outputs": [
    {
     "name": "stdout",
     "output_type": "stream",
     "text": [
      "Downloading PDB sequences and details...\n",
      "Successfully created input_msa.txt, pdb_bpti.fasta and polymer_entities.csv\n"
     ]
    }
   ],
   "source": [
    "import requests\n",
    "import csv\n",
    "\n",
    "#Define the query \n",
    "pdb_query = '''{\"query\":{\"type\":\"group\",\"logical_operator\":\"and\",\"nodes\":[{\"type\":\"group\",\"logical_operator\":\"and\",\"nodes\":[{\"type\":\"terminal\",\"service\":\"text\",\"parameters\":{\"attribute\":\"rcsb_polymer_entity_annotation.annotation_id\",\"operator\":\"exact_match\",\"negation\":false,\"value\":\"PF00014\"}},{\"type\":\"terminal\",\"service\":\"text\",\"parameters\":{\"attribute\":\"rcsb_polymer_entity_annotation.type\",\"operator\":\"exact_match\",\"value\":\"Pfam\",\"negation\":false}}],\"label\":\"nested-attribute\"},{\"type\":\"terminal\",\"service\":\"text\",\"parameters\":{\"attribute\":\"rcsb_entry_info.diffrn_resolution_high.value\",\"operator\":\"less_or_equal\",\"negation\":false,\"value\":3}},{\"type\":\"terminal\",\"service\":\"text\",\"parameters\":{\"attribute\":\"entity_poly.rcsb_sample_sequence_length\",\"operator\":\"range\",\"negation\":false,\"value\":{\"from\":50,\"to\":80,\"include_lower\":true,\"include_upper\":true}}},{\"type\":\"terminal\",\"service\":\"text\",\"parameters\":{\"attribute\":\"entity_poly.rcsb_mutation_count\",\"operator\":\"equals\",\"negation\":false,\"value\":0}}],\"label\":\"text\"},\"return_type\":\"polymer_entity\",\"request_options\":{\"group_by_return_type\":\"representatives\",\"group_by\":{\"aggregation_method\":\"sequence_identity\",\"ranking_criteria_type\":{\"sort_by\":\"rcsb_entry_info.resolution_combined\",\"direction\":\"asc\"},\"similarity_cutoff\":50},\"paginate\":{\"start\":0,\"rows\":25},\"results_content_type\":[\"experimental\"],\"sort\":[{\"sort_by\":\"score\",\"direction\":\"desc\"}],\"scoring_strategy\":\"combined\"}}'''\n",
    "pdb_url = 'http://search.rcsb.org/rcsbsearch/v2/query?json=%s' % requests.utils.requote_uri(pdb_query)\n",
    "\n",
    "#Perform the PDB search\n",
    "req = requests.get(pdb_url)\n",
    "pdb_dict = req.json()\n",
    "list_ids = [name['identifier'] for name in pdb_dict['result_set']] #Extract PDB IDs from the results\n",
    "\n",
    "#Write PDB sequences and details to files\n",
    "with open('input_msa.txt', 'w') as input_msa, open('pdb_bpti.fasta', 'w') as pdb_btpi, open('polymer_entities.csv', 'w', newline='') as file:\n",
    "    writer = csv.writer(file)\n",
    "    writer.writerow(['Identifier', 'Sequence', 'Auth Asym ID', 'Entry ID (Polymer Entity Identifiers)'])\n",
    "    print(\"Downloading PDB sequences and details...\")\n",
    "    \n",
    "    for protein_id in list_ids:\n",
    "        results = []\n",
    "        entry_id, chain_id = protein_id.split(\"_\")  #Split PDB ID into entry and chain\n",
    "        req2 = requests.get('https://data.rcsb.org/rest/v1/core/polymer_entity/%s/%s' % (entry_id, chain_id))\n",
    "        data = req2.json()\n",
    "\n",
    "        #Extract sequence and chain \n",
    "        sequence = data['entity_poly']['pdbx_seq_one_letter_code']\n",
    "        chain = data['rcsb_polymer_entity_container_identifiers']['auth_asym_ids'][0]\n",
    "\n",
    "        #Write details to CSV file\n",
    "        results.append(protein_id)\n",
    "        results.append(sequence)\n",
    "        results.append(chain)\n",
    "        results.append(entry_id)\n",
    "        writer.writerow(results)\n",
    "\n",
    "        #Write sequence to FASTA file\n",
    "        input_msa.write(entry_id + ':' + chain + '\\n')\n",
    "        pdb_btpi.write('>' + entry_id + '_' + chain + '\\n' + sequence + '\\n')\n",
    "\n",
    "print(\"Successfully created input_msa.txt, pdb_bpti.fasta and polymer_entities.csv\")\n"
   ]
  },
  {
   "cell_type": "markdown",
   "metadata": {},
   "source": [
    "# 2. Creation of Hidden Markov Model (HMM build)"
   ]
  },
  {
   "cell_type": "code",
   "execution_count": 68,
   "metadata": {},
   "outputs": [
    {
     "name": "stdout",
     "output_type": "stream",
     "text": [
      "Converted 21 records\n"
     ]
    }
   ],
   "source": [
    "#Transform the multiple sequence alignment form FASTA format to Stockholm\n",
    "\n",
    "from Bio import SeqIO\n",
    "\n",
    "records = SeqIO.parse(\"cut_kunitz_3d.aln\", \"fasta\")\n",
    "count = SeqIO.write(records, \"cut_kunitz.stockholm\", \"stockholm\")\n",
    "print(\"Converted %s records\" %count)"
   ]
  },
  {
   "cell_type": "code",
   "execution_count": 69,
   "metadata": {},
   "outputs": [
    {
     "name": "stdout",
     "output_type": "stream",
     "text": [
      "erpsfcllpadtgpcralikrfYYnakekkCerFvYgGCgGNeNnFeteeeCrrtClgv\n"
     ]
    }
   ],
   "source": [
    "#Create the HMM from the MSA and save it into a file called kunitz.hmm\n",
    "\n",
    "import pyhmmer\n",
    "\n",
    "msa_file_path = \"cut_kunitz.stockholm\"\n",
    "alphabet = pyhmmer.easel.Alphabet.amino()\n",
    "\n",
    "with pyhmmer.easel.MSAFile(msa_file_path, digital=True, alphabet=alphabet) as msa_file:\n",
    "    msa = msa_file.read()\n",
    "    \n",
    "msa.name = b\"kunitz domain\"\n",
    "\n",
    "builder = pyhmmer.plan7.Builder(alphabet)\n",
    "background = pyhmmer.plan7.Background(alphabet)\n",
    "kunitz_hmm, _, _ = builder.build_msa(msa, background) #Build a new HMM from msa using the builder configuration.\n",
    "\n",
    "print(kunitz_hmm.consensus)\n",
    "\n",
    "#Save the HMM\n",
    "with open(\"kunitz.hmm\", \"wb\") as output_file:\n",
    "    kunitz_hmm.write(output_file)"
   ]
  },
  {
   "cell_type": "code",
   "execution_count": 70,
   "metadata": {},
   "outputs": [],
   "source": [
    "def iter_target_match(alignment):\n",
    "    position = alignment.hmm_from\n",
    "    for hmm_letter, amino_acid in zip(alignment.hmm_sequence, alignment.target_sequence):\n",
    "        if hmm_letter != \".\":\n",
    "            yield position, amino_acid\n",
    "            position += 1"
   ]
  },
  {
   "cell_type": "markdown",
   "metadata": {},
   "source": [
    "# 3. Download positive and negative benchmark sets"
   ]
  },
  {
   "cell_type": "code",
   "execution_count": 71,
   "metadata": {},
   "outputs": [
    {
     "name": "stdout",
     "output_type": "stream",
     "text": [
      "Downloading positive set...\n",
      "Positive set downloaded successfully.\n"
     ]
    }
   ],
   "source": [
    "### POSITIVE SET ###\n",
    "pos_uniprot_query = \"((xref:pfam-PF00014) AND (reviewed:true))\"\n",
    "pos_uniprot_url = f\"https://rest.uniprot.org/uniprotkb/stream?format=fasta&query={requests.utils.requote_uri(pos_uniprot_query)}\"\n",
    "pos_req = requests.get(pos_uniprot_url)\n",
    "\n",
    "if pos_req.status_code == 200:\n",
    "    pos_ids = set()\n",
    "\n",
    "    with open(\"all_pos.fasta\", \"w\") as pos_fasta:\n",
    "        print(\"Downloading positive set...\")\n",
    "        for line in pos_req.iter_lines():\n",
    "            line = line.decode(\"utf-8\")  #Decode bytes to string\n",
    "            if line.startswith(\">\"):\n",
    "                pos_fasta.write(line + \"\\n\")                #Write the header line to the FASTA file\n",
    "                pos_id = line.split()[0][1:]                #Extract the ID from the header line and add it to the set\n",
    "                pos_ids.add(pos_id)\n",
    "            else:\n",
    "                pos_fasta.write(line + \"\\n\")                #Write sequence lines to the FASTA file\n",
    "\n",
    "\n",
    "    #Write the positive IDs to the file\n",
    "    with open(\"all_pos.ids\", \"w\") as pos_ids_file:\n",
    "        for pos_id in pos_ids:\n",
    "            pos_ids_file.write(pos_id + \"\\n\")\n",
    "\n",
    "    print(\"Positive set downloaded successfully.\")\n",
    "else:\n",
    "    print(\"Failed to download the positive set. Status code:\", pos_req.status_code)"
   ]
  },
  {
   "cell_type": "code",
   "execution_count": 72,
   "metadata": {},
   "outputs": [
    {
     "name": "stdout",
     "output_type": "stream",
     "text": [
      "Downloading negative set...\n",
      "Negative set downloaded successfully.\n"
     ]
    }
   ],
   "source": [
    "### NEGATIVE SET ###\n",
    "neg_uniprot_query = \"((NOT (xref:pfam-PF00014)) AND (reviewed:true))\"\n",
    "neg_uniprot_url = f\"https://rest.uniprot.org/uniprotkb/stream?format=fasta&query={requests.utils.requote_uri(neg_uniprot_query)}\"\n",
    "neg_req = requests.get(neg_uniprot_url)\n",
    "\n",
    "if neg_req.status_code == 200:\n",
    "    neg_ids = set()\n",
    "\n",
    "    with open(\"all_neg.fasta\", \"w\") as neg_fasta:\n",
    "        print(\"Downloading negative set...\")\n",
    "        for line in neg_req.iter_lines():\n",
    "            line = line.decode(\"utf-8\")  \n",
    "            if line.startswith(\">\"):\n",
    "                neg_fasta.write(line + \"\\n\")\n",
    "                neg_id = line.split()[0][1:]\n",
    "                neg_ids.add(neg_id)\n",
    "            else:\n",
    "                neg_fasta.write(line + \"\\n\")\n",
    "\n",
    "    with open(\"all_neg.ids\", \"w\") as neg_ids_file:\n",
    "        for neg_id in neg_ids:\n",
    "            neg_ids_file.write(neg_id + \"\\n\")\n",
    "\n",
    "    print(\"Negative set downloaded successfully.\")\n",
    "else:\n",
    "    print(\"Failed to download the negative set. Status code:\", neg_req.status_code)"
   ]
  },
  {
   "cell_type": "markdown",
   "metadata": {},
   "source": [
    "# 4. BLAST search to refine the positive benchmark set"
   ]
  },
  {
   "cell_type": "code",
   "execution_count": 73,
   "metadata": {},
   "outputs": [
    {
     "name": "stdout",
     "output_type": "stream",
     "text": [
      "\n",
      "\n",
      "Building a new DB, current time: 05/19/2024 17:09:27\n",
      "New DB name:   /Users/francescocasini/Desktop/Progetto_da_consegnare/pdb_bpti.fasta\n",
      "New DB title:  pdb_bpti.fasta\n",
      "Sequence type: Protein\n",
      "Deleted existing Protein BLAST database named /Users/francescocasini/Desktop/Progetto_da_consegnare/pdb_bpti.fasta\n",
      "Keep MBits: T\n",
      "Maximum file size: 3000000000B\n",
      "Adding sequences from FASTA; added 21 sequences in 0.00412202 seconds.\n",
      "\n",
      "\n"
     ]
    },
    {
     "name": "stderr",
     "output_type": "stream",
     "text": [
      "FASTA-Reader: Ignoring invalid residues at position(s): On line 6: 1, 5\n",
      "FASTA-Reader: Ignoring invalid residues at position(s): On line 26: 1, 5\n"
     ]
    },
    {
     "name": "stdout",
     "output_type": "stream",
     "text": [
      "BLAST search completed successfully.\n"
     ]
    }
   ],
   "source": [
    "import subprocess\n",
    "\n",
    "makeblastdb_cmd = \"makeblastdb -in pdb_bpti.fasta -dbtype prot\"\n",
    "blastp_cmd = \"blastp -query all_pos.fasta -db pdb_bpti.fasta -out all_pos.blast -outfmt 7\"\n",
    "\n",
    "try:\n",
    "    subprocess.run(makeblastdb_cmd, shell=True, check=True)\n",
    "    subprocess.run(blastp_cmd, shell=True, check=True)\n",
    "    print(\"BLAST search completed successfully.\")\n",
    "except subprocess.CalledProcessError as err:\n",
    "    print(\"Error executing command:\", err)\n"
   ]
  },
  {
   "cell_type": "code",
   "execution_count": 74,
   "metadata": {},
   "outputs": [],
   "source": [
    "selected_ids = set() \n",
    "\n",
    "with open('all_pos.blast', \"r\") as file:\n",
    "    for line in file:\n",
    "        if line.startswith(\"# Fields:\"):\n",
    "            break\n",
    "\n",
    "    for line in file:\n",
    "        if line.startswith(\"#\"):\n",
    "            continue\n",
    "        \n",
    "        fields = line.strip().split(\"\\t\")\n",
    "        query_acc_ver = fields[0]\n",
    "        percent_identity = float(fields[2])\n",
    "        alignment_length = int(fields[3])\n",
    "        \n",
    "        if percent_identity > 95 and alignment_length > 50:\n",
    "            selected_ids.add(query_acc_ver)  \n",
    "\n",
    "sorted_ids = sorted(selected_ids)\n",
    "selected_ids = pos_ids- selected_ids\n",
    "\n",
    "with open('selected_ids.txt', 'w') as file:\n",
    "    for protein_id in selected_ids:\n",
    "        if '|' in protein_id:\n",
    "            protein_id = protein_id.split('|')[1]\n",
    "        file.write(protein_id + '\\n')\n",
    "\n"
   ]
  },
  {
   "cell_type": "code",
   "execution_count": 75,
   "metadata": {},
   "outputs": [],
   "source": [
    "with open('bpti_pos_selected.fasta', 'w') as output_file:\n",
    "    with open('all_pos.fasta', 'r') as fasta_file:\n",
    "        capture_sequence = False\n",
    "        for line in fasta_file:\n",
    "            if line.startswith(\">\"):\n",
    "                sequence_id = line.split()[0][1:]\n",
    "                if sequence_id in selected_ids:\n",
    "                    capture_sequence = True\n",
    "                    output_file.write(line)\n",
    "                else:\n",
    "                    capture_sequence = False\n",
    "            elif capture_sequence:\n",
    "                output_file.write(line)"
   ]
  },
  {
   "cell_type": "markdown",
   "metadata": {},
   "source": [
    "# 5. Shuffle and split the sets"
   ]
  },
  {
   "cell_type": "code",
   "execution_count": 76,
   "metadata": {},
   "outputs": [],
   "source": [
    "import pandas as pd\n",
    "\n",
    "def fasta_to_dataframe(fasta_file):\n",
    "    headers = []\n",
    "    sequences = []\n",
    "    with open(fasta_file, 'r') as file:\n",
    "        header = ''\n",
    "        sequence = ''\n",
    "        for line in file:\n",
    "            if line.startswith('>'):\n",
    "                if header:\n",
    "                    headers.append(header)\n",
    "                    sequences.append(sequence)\n",
    "                header = line.strip()\n",
    "                sequence = ''\n",
    "            else:\n",
    "                sequence += line.strip()\n",
    "        #Append the last sequence after reaching EOF\n",
    "        if header:\n",
    "            headers.append(header)\n",
    "            sequences.append(sequence)\n",
    "    return pd.DataFrame({'Header': headers, 'Sequence': sequences})\n",
    "\n",
    "def shuffle_and_split(df):\n",
    "    shuffled_df = df.sample(frac=1, random_state=42)\n",
    "    middle = len(shuffled_df) // 2\n",
    "    \n",
    "    first_half = shuffled_df.iloc[:middle]\n",
    "    second_half = shuffled_df.iloc[middle:]\n",
    "    \n",
    "    return first_half, second_half\n",
    "\n",
    "\n",
    "\n",
    "def dataframe_to_fasta(df, fasta_file):\n",
    "    with open(fasta_file, 'w') as file:\n",
    "        for index, row in df.iterrows():\n",
    "            file.write(f\"{row['Header']}\\n\")\n",
    "            file.write(f\"{row['Sequence']}\\n\")"
   ]
  },
  {
   "cell_type": "code",
   "execution_count": 77,
   "metadata": {},
   "outputs": [],
   "source": [
    "df_pos_selected= fasta_to_dataframe('bpti_pos_selected.fasta')\n",
    "pos1_fasta, pos2_fasta = shuffle_and_split(df_pos_selected)\n",
    "dataframe_to_fasta (pos1_fasta, 'pos1.fasta')\n",
    "dataframe_to_fasta (pos2_fasta, 'pos2.fasta')"
   ]
  },
  {
   "cell_type": "code",
   "execution_count": 78,
   "metadata": {},
   "outputs": [],
   "source": [
    "df_neg= fasta_to_dataframe('all_neg.fasta')\n",
    "neg1_fasta, neg2_fasta = shuffle_and_split(df_neg)\n",
    "dataframe_to_fasta (neg1_fasta, 'neg1.fasta')\n",
    "dataframe_to_fasta (neg2_fasta, 'neg2.fasta')"
   ]
  },
  {
   "cell_type": "markdown",
   "metadata": {},
   "source": []
  },
  {
   "cell_type": "markdown",
   "metadata": {},
   "source": [
    "# 6. HMM search "
   ]
  },
  {
   "cell_type": "code",
   "execution_count": 79,
   "metadata": {},
   "outputs": [],
   "source": [
    "import os\n",
    "import matplotlib.pyplot as plt\n",
    "from dna_features_viewer import GraphicFeature, GraphicRecord\n",
    "\n",
    "def redirect_tabular_output(all_hits, filename):\n",
    "    '''Redirects the tabular output of HMMER hits to a specified file.'''\n",
    "    with open(filename, 'wb') as fh:\n",
    "        all_hits.write(fh, format='targets', header=True)\n",
    "\n",
    "def hits_to_pred(all_hits, filename):\n",
    "    ''' Converts HMMER hits to a prediction file with the format: ID - Evalue - Label (0/1).'''\n",
    "\n",
    "    with open(filename, 'w') as out:\n",
    "        for hit in all_hits:\n",
    "            line = \"%s %s 1\\n\" % (hit.name.decode().split('|')[1], hit.evalue)\n",
    "            out.write(line)\n",
    "\n",
    "def process_hits(all_hits, fasta_headers, output_file):\n",
    "    '''Processes HMMER hits and writes the results, including both hits and non-hits, to an output file.\n",
    "    Hits are labeled with 1 and non-hits are labeled with 0. '''\n",
    "    \n",
    "    \n",
    "    #Collect hit names from all_hits\n",
    "    hit_names_set = set()\n",
    "    for hit in all_hits:\n",
    "        hit_name = hit.name.decode().split('|')[1]\n",
    "        hit_names_set.add(hit_name)\n",
    "\n",
    "    #Collect all IDs from fasta headers\n",
    "    id_set = set()\n",
    "    for header in fasta_headers:\n",
    "        id_set.add(header.split('|')[1])\n",
    "\n",
    "    #Determine non-hit IDs\n",
    "    result_set = id_set - hit_names_set\n",
    "\n",
    "    with open(output_file, 'w') as out:\n",
    "        for hit in all_hits:\n",
    "            line = \"%s %s 0\\n\" % (hit.name.decode().split('|')[1], hit.evalue)\n",
    "            out.write(line)\n",
    "        for element in result_set:\n",
    "            line = \"%s 10 0\\n\" % (element)\n",
    "            out.write(line)\n",
    "\n",
    "def write_matches(all_hits, filename):\n",
    "    '''Writes detailed match information for each hit to a specified file.'''\n",
    "    with open(filename, 'w') as matches:\n",
    "        first_hit = True  #Flag if it's the 1° hit\n",
    "        for hit in all_hits:\n",
    "            if not first_hit:  #Add newline character only if it's not the first hit\n",
    "                line2 = '\\n'\n",
    "                matches.write(line2)  \n",
    "            else:\n",
    "                first_hit = False  #Flag becomes False after the 1° hit\n",
    "                \n",
    "            line2 = ('In sequence %s:\\n' % hit.name.decode())  \n",
    "            matches.write(line2)  \n",
    "            for domain in hit.domains:\n",
    "                ali = domain.alignment\n",
    "                aligned = dict(iter_target_match(ali))\n",
    "                line2 = (\"- Found Kunitz domain at positions %4s to %4s\" % (ali.target_from, ali.target_to)) \n",
    "                matches.write(line2 + '\\n')\n",
    "\n"
   ]
  },
  {
   "cell_type": "markdown",
   "metadata": {},
   "source": [
    "## 6.1 CREATE  SET 1"
   ]
  },
  {
   "cell_type": "code",
   "execution_count": 80,
   "metadata": {},
   "outputs": [],
   "source": [
    "### POS1 ### \n",
    "with pyhmmer.easel.SequenceFile(\"pos1.fasta\", digital=True) as seq_file:\n",
    "    sequences = seq_file.read_block()\n",
    "\n",
    "pipeline = pyhmmer.plan7.Pipeline(alphabet, Z=1, domZ=1, bias_filter=False, F1=1.0, F2=1.0, F3=1.0)\n",
    "all_hits = pipeline.search_hmm(kunitz_hmm, sequences)\n",
    "\n",
    "\n",
    "redirect_tabular_output(all_hits, 'pos1.out')\n",
    "hits_to_pred(all_hits, 'set_1.txt')\n",
    "write_matches(all_hits, 'match_pos1.txt')"
   ]
  },
  {
   "cell_type": "code",
   "execution_count": 81,
   "metadata": {},
   "outputs": [],
   "source": [
    "### NEG1 ### \n",
    "with pyhmmer.easel.SequenceFile(\"neg1.fasta\", digital=True) as seq_file:\n",
    "    sequences = seq_file.read_block()\n",
    "\n",
    "pipeline = pyhmmer.plan7.Pipeline(alphabet, Z=1, domZ=1, bias_filter=False, F1=1.0, F2=1.0, F3=1.0)\n",
    "all_hits = pipeline.search_hmm(kunitz_hmm, sequences)\n",
    "\n",
    "\n",
    "redirect_tabular_output(all_hits, 'neg1.out')\n",
    "process_hits(all_hits, neg1_fasta['Header'], 'tmp_neg1.txt')\n",
    "\n",
    "write_matches(all_hits, 'match_neg1.txt')\n",
    "\n",
    "with open('tmp_neg1.txt', 'r') as tmp_file:\n",
    "    with open('set_1.txt', 'a') as f:\n",
    "        f.write(tmp_file.read())"
   ]
  },
  {
   "cell_type": "code",
   "execution_count": 82,
   "metadata": {},
   "outputs": [],
   "source": [
    "df_set_1 = pd.read_csv('set_1.txt', sep=' ', header=None, names=['ID', 'E-value', 'Label'])\n"
   ]
  },
  {
   "cell_type": "code",
   "execution_count": 83,
   "metadata": {},
   "outputs": [
    {
     "name": "stdout",
     "output_type": "stream",
     "text": [
      "179\n",
      "285445\n"
     ]
    }
   ],
   "source": [
    "%%bash\n",
    "\n",
    "grep -c ' 1$' set_1.txt\n",
    "grep -c ' 0$' set_1.txt\n"
   ]
  },
  {
   "cell_type": "markdown",
   "metadata": {},
   "source": [
    "## 6.2 CREATE  SET 2"
   ]
  },
  {
   "cell_type": "code",
   "execution_count": 84,
   "metadata": {},
   "outputs": [],
   "source": [
    "### POS2 ### \n",
    "with pyhmmer.easel.SequenceFile(\"pos2.fasta\", digital=True) as seq_file:\n",
    "    sequences = seq_file.read_block()\n",
    "\n",
    "pipeline = pyhmmer.plan7.Pipeline(alphabet, Z=1, domZ=1, bias_filter=False, F1=1.0, F2=1.0, F3=1.0)\n",
    "all_hits = pipeline.search_hmm(kunitz_hmm, sequences)\n",
    "\n",
    "\n",
    "redirect_tabular_output(all_hits, 'pos2.out')\n",
    "hits_to_pred(all_hits, 'set_2.txt')\n",
    "write_matches(all_hits, 'match_pos2.txt')"
   ]
  },
  {
   "cell_type": "code",
   "execution_count": 85,
   "metadata": {},
   "outputs": [],
   "source": [
    "### NEG2### \n",
    "with pyhmmer.easel.SequenceFile(\"neg2.fasta\", digital=True) as seq_file:\n",
    "    sequences = seq_file.read_block()\n",
    "\n",
    "pipeline = pyhmmer.plan7.Pipeline(alphabet, Z=1, domZ=1, bias_filter=False, F1=1.0, F2=1.0, F3=1.0)\n",
    "all_hits = pipeline.search_hmm(kunitz_hmm, sequences)\n",
    "\n",
    "\n",
    "redirect_tabular_output(all_hits, 'neg2.out')\n",
    "process_hits(all_hits, neg2_fasta['Header'], 'tmp_neg2.txt')\n",
    "write_matches(all_hits, 'match_neg2.txt')\n",
    "\n",
    "with open('tmp_neg2.txt', 'r') as tmp_file:\n",
    "    with open('set_2.txt', 'a') as f:\n",
    "        f.write(tmp_file.read())"
   ]
  },
  {
   "cell_type": "code",
   "execution_count": 86,
   "metadata": {},
   "outputs": [],
   "source": [
    "df_set_2 = pd.read_csv('set_2.txt', sep=' ', header=None, names=['ID', 'E-value', 'Label'])"
   ]
  },
  {
   "cell_type": "code",
   "execution_count": 87,
   "metadata": {},
   "outputs": [
    {
     "name": "stdout",
     "output_type": "stream",
     "text": [
      "179\n",
      "285446\n"
     ]
    }
   ],
   "source": [
    "%%bash\n",
    "grep -c ' 1$' set_2.txt\n",
    "grep -c ' 0$' set_2.txt"
   ]
  },
  {
   "cell_type": "markdown",
   "metadata": {},
   "source": [
    "## 6.3 CREATE MERGED SET"
   ]
  },
  {
   "cell_type": "code",
   "execution_count": 88,
   "metadata": {},
   "outputs": [],
   "source": [
    "#Concatenating two files\n",
    "with open('set_1.txt', 'r') as fh1, open('set_2.txt', 'r') as fh2:\n",
    "    merged_file = fh1.read() + fh2.read()\n",
    "\n",
    "with open('merged_set.txt', 'w') as out:\n",
    "    out.write(merged_file)"
   ]
  },
  {
   "cell_type": "code",
   "execution_count": 120,
   "metadata": {},
   "outputs": [
    {
     "name": "stdout",
     "output_type": "stream",
     "text": [
      "358\n",
      "570891\n"
     ]
    }
   ],
   "source": [
    "%%bash\n",
    "grep -c ' 1$' merged_set.txt\n",
    "grep -c ' 0$' merged_set.txt"
   ]
  },
  {
   "cell_type": "code",
   "execution_count": 122,
   "metadata": {},
   "outputs": [
    {
     "data": {
      "text/html": [
       "<div>\n",
       "<style scoped>\n",
       "    .dataframe tbody tr th:only-of-type {\n",
       "        vertical-align: middle;\n",
       "    }\n",
       "\n",
       "    .dataframe tbody tr th {\n",
       "        vertical-align: top;\n",
       "    }\n",
       "\n",
       "    .dataframe thead th {\n",
       "        text-align: right;\n",
       "    }\n",
       "</style>\n",
       "<table border=\"1\" class=\"dataframe\">\n",
       "  <thead>\n",
       "    <tr style=\"text-align: right;\">\n",
       "      <th></th>\n",
       "      <th>ID</th>\n",
       "      <th>E-value</th>\n",
       "      <th>Label</th>\n",
       "    </tr>\n",
       "  </thead>\n",
       "  <tbody>\n",
       "    <tr>\n",
       "      <th>0</th>\n",
       "      <td>Q868Z9</td>\n",
       "      <td>1.936215e-201</td>\n",
       "      <td>1</td>\n",
       "    </tr>\n",
       "    <tr>\n",
       "      <th>1</th>\n",
       "      <td>O76840</td>\n",
       "      <td>3.255031e-182</td>\n",
       "      <td>1</td>\n",
       "    </tr>\n",
       "    <tr>\n",
       "      <th>2</th>\n",
       "      <td>A0A6P8HC43</td>\n",
       "      <td>1.596677e-96</td>\n",
       "      <td>1</td>\n",
       "    </tr>\n",
       "    <tr>\n",
       "      <th>3</th>\n",
       "      <td>O54819</td>\n",
       "      <td>2.987336e-70</td>\n",
       "      <td>1</td>\n",
       "    </tr>\n",
       "    <tr>\n",
       "      <th>4</th>\n",
       "      <td>P19761</td>\n",
       "      <td>3.514437e-68</td>\n",
       "      <td>1</td>\n",
       "    </tr>\n",
       "    <tr>\n",
       "      <th>5</th>\n",
       "      <td>Q7YRQ8</td>\n",
       "      <td>1.081290e-60</td>\n",
       "      <td>1</td>\n",
       "    </tr>\n",
       "    <tr>\n",
       "      <th>6</th>\n",
       "      <td>P86733</td>\n",
       "      <td>7.595903e-51</td>\n",
       "      <td>1</td>\n",
       "    </tr>\n",
       "    <tr>\n",
       "      <th>7</th>\n",
       "      <td>W4VSH9</td>\n",
       "      <td>7.710701e-49</td>\n",
       "      <td>1</td>\n",
       "    </tr>\n",
       "    <tr>\n",
       "      <th>8</th>\n",
       "      <td>Q8WPI3</td>\n",
       "      <td>8.160580e-49</td>\n",
       "      <td>1</td>\n",
       "    </tr>\n",
       "  </tbody>\n",
       "</table>\n",
       "</div>"
      ],
      "text/plain": [
       "           ID        E-value  Label\n",
       "0      Q868Z9  1.936215e-201      1\n",
       "1      O76840  3.255031e-182      1\n",
       "2  A0A6P8HC43   1.596677e-96      1\n",
       "3      O54819   2.987336e-70      1\n",
       "4      P19761   3.514437e-68      1\n",
       "5      Q7YRQ8   1.081290e-60      1\n",
       "6      P86733   7.595903e-51      1\n",
       "7      W4VSH9   7.710701e-49      1\n",
       "8      Q8WPI3   8.160580e-49      1"
      ]
     },
     "execution_count": 122,
     "metadata": {},
     "output_type": "execute_result"
    }
   ],
   "source": [
    "df_merged_set = pd.read_csv('merged_set.txt', sep=' ', header=None, names=['ID', 'E-value', 'Label'])\n",
    "df_merged_set.head(9)"
   ]
  },
  {
   "cell_type": "markdown",
   "metadata": {},
   "source": [
    "# 7. Divide  in train set (70%) and test set (30%)\n"
   ]
  },
  {
   "cell_type": "code",
   "execution_count": 128,
   "metadata": {},
   "outputs": [],
   "source": [
    "\n",
    "def create_splitted_df(df, column_name, percentage1):\n",
    "    neg_df = df[df[column_name] == 0]\n",
    "    pos_df = df[df[column_name] == 1]\n",
    "    \n",
    "    neg_perc = neg_df.sample(frac=percentage1 / 100)\n",
    "    pos_perc = pos_df.sample(frac=percentage1 / 100)\n",
    "    \n",
    "    percentage1_df = pd.concat([neg_perc, pos_perc])\n",
    "    percentage2_df = df[~df.index.isin(percentage1_df.index)] #Delete from the original df the rows present in the first df created in order to avoid overlapping entries\n",
    "    \n",
    "    return percentage1_df, percentage2_df\n",
    "\n",
    "\n",
    "test_df, train_df = create_splitted_df(df_merged_set, 'Label', 30)\n",
    "test_df.to_csv(test_df, index=False)\n",
    "train_df.to_csv(train_df, index=False)\n"
   ]
  },
  {
   "cell_type": "code",
   "execution_count": 147,
   "metadata": {},
   "outputs": [],
   "source": [
    "test_df.to_csv('test_df.csv', index=False)\n",
    "train_df.to_csv('train_df.csv', index=False)"
   ]
  },
  {
   "cell_type": "code",
   "execution_count": 129,
   "metadata": {},
   "outputs": [
    {
     "data": {
      "text/html": [
       "<div>\n",
       "<style scoped>\n",
       "    .dataframe tbody tr th:only-of-type {\n",
       "        vertical-align: middle;\n",
       "    }\n",
       "\n",
       "    .dataframe tbody tr th {\n",
       "        vertical-align: top;\n",
       "    }\n",
       "\n",
       "    .dataframe thead th {\n",
       "        text-align: right;\n",
       "    }\n",
       "</style>\n",
       "<table border=\"1\" class=\"dataframe\">\n",
       "  <thead>\n",
       "    <tr style=\"text-align: right;\">\n",
       "      <th></th>\n",
       "      <th>ID</th>\n",
       "      <th>E-value</th>\n",
       "      <th>Label</th>\n",
       "    </tr>\n",
       "  </thead>\n",
       "  <tbody>\n",
       "    <tr>\n",
       "      <th>228565</th>\n",
       "      <td>A4XHR9</td>\n",
       "      <td>10.000000</td>\n",
       "      <td>0</td>\n",
       "    </tr>\n",
       "    <tr>\n",
       "      <th>7445</th>\n",
       "      <td>P0CU13</td>\n",
       "      <td>0.030154</td>\n",
       "      <td>0</td>\n",
       "    </tr>\n",
       "    <tr>\n",
       "      <th>168623</th>\n",
       "      <td>Q1BRX4</td>\n",
       "      <td>10.000000</td>\n",
       "      <td>0</td>\n",
       "    </tr>\n",
       "    <tr>\n",
       "      <th>67108</th>\n",
       "      <td>P81534</td>\n",
       "      <td>0.157444</td>\n",
       "      <td>0</td>\n",
       "    </tr>\n",
       "    <tr>\n",
       "      <th>299440</th>\n",
       "      <td>Q9M8J3</td>\n",
       "      <td>0.049948</td>\n",
       "      <td>0</td>\n",
       "    </tr>\n",
       "  </tbody>\n",
       "</table>\n",
       "</div>"
      ],
      "text/plain": [
       "            ID    E-value  Label\n",
       "228565  A4XHR9  10.000000      0\n",
       "7445    P0CU13   0.030154      0\n",
       "168623  Q1BRX4  10.000000      0\n",
       "67108   P81534   0.157444      0\n",
       "299440  Q9M8J3   0.049948      0"
      ]
     },
     "execution_count": 129,
     "metadata": {},
     "output_type": "execute_result"
    }
   ],
   "source": [
    "test_df.head()"
   ]
  },
  {
   "cell_type": "code",
   "execution_count": 130,
   "metadata": {},
   "outputs": [
    {
     "name": "stdout",
     "output_type": "stream",
     "text": [
      "Number of negatives in train set: 399624\n",
      "Number of positives in train set: 251\n"
     ]
    }
   ],
   "source": [
    "label_counts = train_df['Label'].value_counts()\n",
    "\n",
    "print(\"Number of negatives in train set:\", label_counts[0])\n",
    "print(\"Number of positives in train set:\", label_counts[1])"
   ]
  },
  {
   "cell_type": "code",
   "execution_count": 131,
   "metadata": {},
   "outputs": [
    {
     "name": "stdout",
     "output_type": "stream",
     "text": [
      "Number of negatives in test set: 171267\n",
      "Number of positives in test set: 107\n"
     ]
    }
   ],
   "source": [
    "label_counts = test_df['Label'].value_counts()\n",
    "\n",
    "print(\"Number of negatives in test set:\", label_counts[0])\n",
    "print(\"Number of positives in test set:\", label_counts[1])"
   ]
  },
  {
   "cell_type": "code",
   "execution_count": 132,
   "metadata": {},
   "outputs": [
    {
     "name": "stdout",
     "output_type": "stream",
     "text": [
      "There is no overlap between test_df and train_df.\n"
     ]
    }
   ],
   "source": [
    "overlap = len(test_df.index.intersection(train_df.index)) > 0\n",
    "\n",
    "if overlap:\n",
    "    print(\"There is overlap between test_df and train_df.\")\n",
    "else:\n",
    "    print(\"There is no overlap between test_df and train_df.\")\n"
   ]
  },
  {
   "cell_type": "markdown",
   "metadata": {},
   "source": [
    "# 8. Divide the Training set into 2 folds: 50% and 50% "
   ]
  },
  {
   "cell_type": "code",
   "execution_count": 133,
   "metadata": {},
   "outputs": [
    {
     "name": "stdout",
     "output_type": "stream",
     "text": [
      "Number of negatives in train_fold_1: 199812\n",
      "Number of positives in train_fold_1: 126\n",
      "Number of negatives in train_fold_2: 199812\n",
      "Number of positives in train_fold_2: 125\n",
      "There is no overlap between fold_set_1 and fold_set_2\n"
     ]
    }
   ],
   "source": [
    "fold_set_1, fold_set_2 = create_splitted_df(train_df, 'Label', 50)\n",
    "\n",
    "label_counts = fold_set_1['Label'].value_counts()\n",
    "\n",
    "print(\"Number of negatives in train_fold_1:\", label_counts[0])\n",
    "print(\"Number of positives in train_fold_1:\", label_counts[1])\n",
    "\n",
    "label_counts = fold_set_2['Label'].value_counts()\n",
    "print(\"Number of negatives in train_fold_2:\", label_counts[0])\n",
    "print(\"Number of positives in train_fold_2:\", label_counts[1])\n",
    "\n",
    "overlap = len(fold_set_1.index.intersection(fold_set_2.index)) > 0\n",
    "\n",
    "if overlap:\n",
    "    print(\"There is overlap between fold_set_1 and fold_set_2\")\n",
    "else:\n",
    "    print(\"There is no overlap between fold_set_1 and fold_set_2\")"
   ]
  },
  {
   "cell_type": "code",
   "execution_count": 148,
   "metadata": {},
   "outputs": [],
   "source": [
    "fold_set_1.to_csv('fold_set_1.csv', index=False)\n",
    "fold_set_2.to_csv('fold_set_2.csv', index=False)"
   ]
  },
  {
   "cell_type": "markdown",
   "metadata": {},
   "source": [
    "# 9. Apply 2-FOLD Cross Validation on the train folds"
   ]
  },
  {
   "cell_type": "markdown",
   "metadata": {},
   "source": [
    "### Define functions to compute performance metrics"
   ]
  },
  {
   "cell_type": "code",
   "execution_count": 134,
   "metadata": {},
   "outputs": [],
   "source": [
    "import numpy as np\n",
    "from sklearn.metrics import confusion_matrix\n",
    "import matplotlib.pyplot as plt\n",
    "from matplotlib.patches import Rectangle\n",
    "import seaborn as sns\n",
    "\n",
    "\n",
    "\n",
    "def get_data(pred_df):\n",
    "    preds = []\n",
    "    for index, row in pred_df.iterrows():\n",
    "        protein_id = row['ID']\n",
    "        e_value = row['E-value']\n",
    "        label = row['Label']\n",
    "        e_value = float(e_value)\n",
    "        label = int(label)\n",
    "        preds.append((protein_id, e_value, label))\n",
    "    return preds\n",
    "\n",
    "def calculate_cm(preds, th):\n",
    "    predicted_labels = []\n",
    "    true_labels = []\n",
    "    for _, e_value, label in preds:  \n",
    "        if e_value <= th:\n",
    "            predicted_labels.append(1)\n",
    "        else:\n",
    "            predicted_labels.append(0)\n",
    "        true_labels.append(label)\n",
    "\n",
    "    cm = confusion_matrix(true_labels, predicted_labels)\n",
    "    cm = np.flipud(np.fliplr(cm))\n",
    "    return cm, predicted_labels, true_labels\n",
    "\n",
    "def calculate_performance_metrics(cm):\n",
    "    tp = cm[0, 0]\n",
    "    tn = cm[1, 1]\n",
    "    fp = cm[1, 0]\n",
    "    fn = cm[0, 1]\n",
    "    \n",
    "    denominator = np.sqrt((tp + fp) * (tp + fn) * (tn + fp) * (tn + fn))\n",
    "    if denominator == 0:\n",
    "        mcc = 0  #If  denominator =0 the MMC becomes 0 \n",
    "    else:\n",
    "        mcc = (tp * tn - fp * fn) / denominator\n",
    "    \n",
    "    accuracy = (tp + tn) / np.sum(cm)\n",
    "    TPR = tp / (tp + fn)\n",
    "    FPR = fp / (fp + tn)\n",
    "    \n",
    "    return accuracy, mcc, TPR, FPR, tp, fp, tn, fn\n",
    "\n",
    "def plot_confusion_matrix(cm, save_path=None):\n",
    "    plt.figure(figsize=(8, 6))\n",
    "\n",
    "    sns.heatmap(cm, annot=True, fmt='d', cmap='Reds', cbar=False, \n",
    "                xticklabels=['Negative', 'Positive'], \n",
    "                yticklabels=['Negative', 'Positive'], \n",
    "                linewidths=2, linecolor='black')\n",
    "\n",
    "    plt.title('CONFUSION MATRIX', fontsize=16, fontweight='bold')\n",
    "    plt.xlabel('PREDICTED LABEL', fontsize=12, fontweight='bold')\n",
    "    plt.ylabel('TRUE LABEL', fontsize=12, fontweight='bold')\n",
    "\n",
    "    plt.text(0.5, 0.6, \"TRUE POSITIVE\", horizontalalignment='center', verticalalignment='center', fontsize=10, fontweight='bold', color='black')\n",
    "    plt.text(0.5, 1.4, \"FALSE POSITIVE\", horizontalalignment='center',  verticalalignment='center', fontsize=10, fontweight='bold', color='black')\n",
    "    plt.text(1.5, 0.6, \"FALSE NEGATIVE\", horizontalalignment='center',  verticalalignment='center', fontsize=10, fontweight='bold', color='black')\n",
    "    plt.text(1.5, 1.4, \"TRUE NEGATIVE\", horizontalalignment='center', verticalalignment='center', fontsize=10, fontweight='bold', color='white')\n",
    "\n",
    "    if save_path:\n",
    "        plt.savefig(save_path, bbox_inches='tight')\n",
    "    else:\n",
    "        plt.show()\n",
    "\n",
    "def plot_roc_curve(FPR_values, TPR_values, best_threshold, best_mcc, save_path=None):\n",
    "    plt.figure(figsize=(10, 8))\n",
    "    plt.plot(FPR_values, TPR_values, marker='o', linestyle='-', color='b', label='ROC curve')\n",
    "    plt.title('ROC Curve')\n",
    "    plt.xlabel('False Positive Rate (FPR)')\n",
    "    plt.ylabel('True Positive Rate (TPR)')\n",
    "    plt.grid(True)\n",
    "    plt.plot([0, 1], [0, 1], linestyle='--', color='gray', label='Random Classifier')\n",
    "\n",
    "    # Annotate best threshold point\n",
    "    best_threshold_index = TPR_values.index(max(TPR_values))\n",
    "    best_threshold_coord = (FPR_values[best_threshold_index], max(TPR_values))\n",
    "\n",
    "    # Create a rectangular box around the annotation\n",
    "    rect = Rectangle((best_threshold_coord[0] - 0.05, best_threshold_coord[1] - 0.05), 0.1, 0.1, linewidth=1, edgecolor='black', facecolor='none')\n",
    "    plt.gca().add_patch(rect)\n",
    "\n",
    "    # Annotate best threshold point inside the rectangle\n",
    "    plt.annotate('Best Threshold: %s\\nBest MCC: %.2f' % (best_threshold, best_mcc),\n",
    "                xy=best_threshold_coord,\n",
    "                xytext=(best_threshold_coord[0] - 0.2, best_threshold_coord[1] - 0.25),\n",
    "                fontsize=12,\n",
    "                horizontalalignment='left',\n",
    "                verticalalignment='top',\n",
    "                bbox=dict(facecolor='white', edgecolor='black', boxstyle='round,pad=0.5'))\n",
    "\n",
    "    # Plotting the point for the best threshold\n",
    "    plt.plot(best_threshold_coord[0], best_threshold_coord[1], marker='o', markersize=8, color='r', label='Best Threshold')\n",
    "\n",
    "    plt.legend(loc='lower right')\n",
    "    \n",
    "    # Save the plot if save_path is provided\n",
    "    if save_path:\n",
    "        plt.savefig(save_path)\n",
    "    else:\n",
    "        plt.show()\n",
    "\n",
    "\n",
    "\n",
    "def plot_mcc_vs_threshold(thresholds_list, mcc_values_list, best_thresholds_list, labels, filename):\n",
    "    ''' \n",
    "    Plot MCC VS threshold E-values for multiple datasets and save the plot \n",
    "    \n",
    "    Parameters:\n",
    "        - thresholds_list (list of lists): List of lists of threshold values for each dataset.\n",
    "        - mcc_values_list (list of lists): List of lists of MCC values for each dataset.\n",
    "        - best_thresholds_list (list): List of best threshold values for each dataset.\n",
    "        - labels (list): List of labels for each dataset.\n",
    "        - filename (str): Name of the file to save the plot.\n",
    "    '''\n",
    "    \n",
    "    plt.figure(figsize=(10, 6))\n",
    "    colors = ['darkblue', 'darkred']\n",
    "    \n",
    "    #plot red lie\n",
    "    for i, (thresholds, mcc_values, best_threshold, label) in enumerate(zip(thresholds_list, mcc_values_list, best_thresholds_list, labels)):\n",
    "        if colors[i] == 'darkred':\n",
    "            plt.plot(thresholds, mcc_values, marker='o', linestyle='-', label=label, color=colors[i])\n",
    "            plt.scatter(best_threshold, mcc_values[thresholds.index(best_threshold)], color=colors[i], s=100)\n",
    "\n",
    "    #plot blue line\n",
    "    for i, (thresholds, mcc_values, best_threshold, label) in enumerate(zip(thresholds_list, mcc_values_list, best_thresholds_list, labels)):\n",
    "        if colors[i] == 'darkblue':\n",
    "            plt.plot(thresholds, mcc_values, marker='o', linestyle='-', label=label, color=colors[i])\n",
    "            plt.scatter(best_threshold, mcc_values[thresholds.index(best_threshold)], color=colors[i], s=100)\n",
    "    \n",
    "    plt.xscale('log')  #set x axis to log scale\n",
    "    plt.xlabel('Threshold (e-value)')\n",
    "    plt.ylabel('Matthew Correlation Coefficient (MCC)')\n",
    "    plt.title('MCC versus Threshold ($10^{-12}$ to $10^{-5}$)')\n",
    "    plt.grid(True)\n",
    "    plt.legend()\n",
    "    plt.savefig(filename)  \n",
    "    plt.show()\n"
   ]
  },
  {
   "cell_type": "markdown",
   "metadata": {},
   "source": [
    "## 8.1 Find the best threshold on fold 1 and test it on fold 2"
   ]
  },
  {
   "cell_type": "code",
   "execution_count": 135,
   "metadata": {},
   "outputs": [
    {
     "name": "stdout",
     "output_type": "stream",
     "text": [
      "Best Threshold obtained during the training on fold 1: 1e-07\n"
     ]
    },
    {
     "data": {
      "image/png": "[encoded data removed]",
      "text/plain": [
       "<Figure size 1000x800 with 1 Axes>"
      ]
     },
     "metadata": {},
     "output_type": "display_data"
    }
   ],
   "source": [
    "predicted_df = fold_set_1  \n",
    "thresholds = [10**-i for i in range(-12, 12)]  \n",
    "preds = get_data(predicted_df)  \n",
    "\n",
    "#Initialize variables\n",
    "best_threshold_1 = None\n",
    "best_performance_metric = float('-inf')\n",
    "mcc_dict = {}\n",
    "FPR_values = []\n",
    "TPR_values = []\n",
    "\n",
    "#Write the result file\n",
    "with open('train_set_1.res', 'w') as f:\n",
    "    for threshold in thresholds:\n",
    "        cm, predicted_labels, true_labels = calculate_cm(preds, threshold)\n",
    "        accuracy, mcc, TPR, FPR, tp, fp, tn, fn = calculate_performance_metrics(cm)\n",
    "        \n",
    "        f.write(\"Threshold: %s\\n\" % threshold)\n",
    "        f.write(\"Confusion Matrix:\\n\")\n",
    "        f.write(\"%s\\n\" % cm)\n",
    "        f.write(\"Accuracy: %s\\n\" % accuracy)\n",
    "        f.write(\"Matthew Correlation Coefficient (MCC): %s\\n\" % mcc)\n",
    "        f.write(\"True Positive Rate (TPR): %s\\n\" % TPR)\n",
    "        f.write(\"False Positive Rate (FPR): %s\\n\\n\" % FPR)\n",
    "        \n",
    "        #Update best threshold \n",
    "        if mcc > best_performance_metric:\n",
    "            best_performance_metric = mcc\n",
    "            best_threshold_1 = threshold\n",
    "        \n",
    "        \n",
    "        mcc_dict[threshold] = mcc #Add MCC value to the dictionary with corresponding threshold\n",
    "        TPR_values.append(TPR)\n",
    "        FPR_values.append(FPR)\n",
    "\n",
    "print(\"Best Threshold obtained during the training on fold 1: %s\" % best_threshold_1)\n",
    "\n",
    "#Filter the dictionary to include only the range of evalue thresholds\n",
    "filtered_mcc_dict = {}\n",
    "\n",
    "for key, value in mcc_dict.items():\n",
    "    if key >= 10**-12 and key <= 10**-5:\n",
    "        filtered_mcc_dict[key] = value\n",
    "\n",
    "\n",
    "thresholds = []\n",
    "mcc_values = []\n",
    "\n",
    "for key in filtered_mcc_dict.keys():\n",
    "    thresholds.append(key)\n",
    "    mcc_values.append(filtered_mcc_dict[key])\n",
    "\n",
    "#Find  best threshold in the  range\n",
    "best_threshold = None\n",
    "best_mcc = float('-inf')\n",
    "\n",
    "for key in filtered_mcc_dict.keys():\n",
    "    if filtered_mcc_dict[key] > best_mcc:\n",
    "        best_mcc = filtered_mcc_dict[key]\n",
    "        best_threshold = key\n",
    "\n",
    "plot_roc_curve(FPR_values, TPR_values, best_threshold, best_mcc, save_path='roc_train_set_1.png')\n"
   ]
  },
  {
   "cell_type": "code",
   "execution_count": 136,
   "metadata": {},
   "outputs": [
    {
     "data": {
      "text/plain": [
       "1e-07"
      ]
     },
     "execution_count": 136,
     "metadata": {},
     "output_type": "execute_result"
    }
   ],
   "source": [
    "best_threshold"
   ]
  },
  {
   "cell_type": "code",
   "execution_count": 137,
   "metadata": {},
   "outputs": [
    {
     "name": "stdout",
     "output_type": "stream",
     "text": [
      "Accuracy: 0.9999949984245037\n",
      "Matthew Correlation Coefficient (MCC): 0.9960213487064152\n",
      "True Positive Rate (TPR): 1.0\n",
      "False Positive Rate (FPR): 5.004704422156827e-06\n"
     ]
    },
    {
     "data": {
      "image/png": "[encoded data removed]",
      "text/plain": [
       "<Figure size 800x600 with 1 Axes>"
      ]
     },
     "metadata": {},
     "output_type": "display_data"
    }
   ],
   "source": [
    "#### TEST ON FOLD 2 ###\n",
    "\n",
    "import matplotlib.pyplot as plt\n",
    "import seaborn as sns\n",
    "\n",
    "\n",
    "predicted_df = fold_set_2\n",
    "preds = get_data(predicted_df)  \n",
    "\n",
    "cm, predicted_labels, true_labels = calculate_cm(preds, best_threshold)\n",
    "accuracy, mcc, TPR, FPR, tp, fp, tn, fn = calculate_performance_metrics(cm)\n",
    "plot_confusion_matrix(cm, save_path='cm_test_set_2.png')\n",
    "\n",
    "print(\"Accuracy:\", accuracy)\n",
    "print(\"Matthew Correlation Coefficient (MCC):\", mcc)\n",
    "print(\"True Positive Rate (TPR):\", TPR)\n",
    "print(\"False Positive Rate (FPR):\", FPR)\n",
    "\n",
    "with open('test_set_2.res', 'w') as f:\n",
    "    f.write(\"Confusion Matrix:\\n\")\n",
    "    f.write(\"%s\\n\" % cm)\n",
    "    f.write(\"Accuracy: %s\\n\" % accuracy)\n",
    "    f.write(\"Matthew Correlation Coefficient (MCC): %s\\n\" % mcc)\n",
    "    f.write(\"True Positive Rate (TPR): %s\\n\" % TPR)\n",
    "    f.write(\"False Positive Rate (FPR): %s\\n\" % FPR)\n"
   ]
  },
  {
   "cell_type": "markdown",
   "metadata": {},
   "source": [
    "## 8.2 Find the best threshold on fold 2 and test it on fold 1"
   ]
  },
  {
   "cell_type": "code",
   "execution_count": 138,
   "metadata": {},
   "outputs": [
    {
     "name": "stdout",
     "output_type": "stream",
     "text": [
      "Best Threshold obtained during the training on fold 2: 1e-08\n"
     ]
    },
    {
     "data": {
      "image/png": "[encoded data removed]",
      "text/plain": [
       "<Figure size 1000x800 with 1 Axes>"
      ]
     },
     "metadata": {},
     "output_type": "display_data"
    }
   ],
   "source": [
    "### TRAIN FOLD 2 ###\n",
    "\n",
    "predicted_df_2 = fold_set_2 \n",
    "thresholds_2 = [10**-i for i in range(-12, 12)]  \n",
    "preds_2 = get_data(predicted_df_2)  # Pass the DataFrame object to the get_data function\n",
    "\n",
    "\n",
    "\n",
    "best_threshold_2 = None\n",
    "best_performance_metric_2 = float('-inf')\n",
    "mcc_dict_2 = {}\n",
    "TPR_values_2 = []\n",
    "FPR_values_2 = []\n",
    "\n",
    "with open('train_set_2.res', 'w') as f:\n",
    "    for threshold in thresholds_2:\n",
    "        cm, predicted_labels, true_labels = calculate_cm(preds, threshold)\n",
    "        accuracy, mcc, TPR, FPR, tp, fp, tn, fn = calculate_performance_metrics(cm)\n",
    "        TPR_values_2.append(TPR)\n",
    "        FPR_values_2.append(FPR)   \n",
    "        \n",
    "        f.write(\"Threshold: %s\\n\" % threshold)\n",
    "        f.write(\"Confusion Matrix:\\n\")\n",
    "        f.write(\"%s\\n\" % cm)\n",
    "        f.write(\"Accuracy: %s\\n\" % accuracy)\n",
    "        f.write(\"Matthew Correlation Coefficient (MCC): %s\\n\" % mcc)\n",
    "        f.write(\"True Positive Rate (TPR): %s\\n\" % TPR)\n",
    "        f.write(\"False Positive Rate (FPR): %s\\n\\n\" % FPR)\n",
    "        \n",
    "\n",
    "        if mcc > best_performance_metric_2:\n",
    "            best_performance_metric_2 = mcc\n",
    "            best_threshold_2 = threshold\n",
    "        \n",
    "        mcc_dict_2[threshold] = mcc\n",
    "\n",
    "print(\"Best Threshold obtained during the training on fold 2:\", best_threshold_2)\n",
    "\n",
    "filtered_mcc_dict_2 = {}\n",
    "for key, value in mcc_dict_2.items():\n",
    "    if 10**-12 <= key <= 10**-5:\n",
    "        filtered_mcc_dict_2[key] = value\n",
    "\n",
    "thresholds_2 = list(filtered_mcc_dict_2.keys())\n",
    "mcc_values_2 = list(filtered_mcc_dict.values())\n",
    "\n",
    "best_threshold_2 = max(filtered_mcc_dict_2, key=filtered_mcc_dict_2.get)\n",
    "best_mcc_2 = filtered_mcc_dict_2[best_threshold_2]\n",
    "\n",
    "plot_roc_curve(FPR_values_2, TPR_values_2, best_threshold_2, best_mcc_2,save_path='roc_train_set_2.png')"
   ]
  },
  {
   "cell_type": "code",
   "execution_count": 139,
   "metadata": {},
   "outputs": [
    {
     "data": {
      "text/plain": [
       "1e-08"
      ]
     },
     "execution_count": 139,
     "metadata": {},
     "output_type": "execute_result"
    }
   ],
   "source": [
    "best_threshold_2"
   ]
  },
  {
   "cell_type": "code",
   "execution_count": 140,
   "metadata": {},
   "outputs": [
    {
     "name": "stdout",
     "output_type": "stream",
     "text": [
      "Accuracy: 0.9999949984495193\n",
      "Matthew Correlation Coefficient (MCC): 0.9960213487188888\n",
      "True Positive Rate (TPR): 0.9920634920634921\n",
      "False Positive Rate (FPR): 0.0\n"
     ]
    },
    {
     "data": {
      "image/png": "[encoded data removed]",
      "text/plain": [
       "<Figure size 800x600 with 1 Axes>"
      ]
     },
     "metadata": {},
     "output_type": "display_data"
    }
   ],
   "source": [
    "### TEST FOLD 1 ###\n",
    "\n",
    "import matplotlib.pyplot as plt\n",
    "import seaborn as sns\n",
    "\n",
    "predicted_df = fold_set_1\n",
    "preds = get_data(predicted_df)  \n",
    "\n",
    "cm, predicted_labels, true_labels = calculate_cm(preds, best_threshold)\n",
    "accuracy, mcc, TPR, FPR, tp, fp, tn, fn = calculate_performance_metrics(cm)\n",
    "plot_confusion_matrix(cm, save_path='cm_test_set_1.png')\n",
    "\n",
    "\n",
    "print(\"Accuracy:\", accuracy)\n",
    "print(\"Matthew Correlation Coefficient (MCC):\", mcc)\n",
    "print(\"True Positive Rate (TPR):\", TPR)\n",
    "print(\"False Positive Rate (FPR):\", FPR)\n",
    "\n",
    "with open('test_set_1.res', 'w') as f:\n",
    "    f.write(\"Confusion Matrix:\\n\")\n",
    "    f.write(\"%s\\n\" % cm)\n",
    "    f.write(\"Accuracy: %s\\n\" % accuracy)\n",
    "    f.write(\"Matthew Correlation Coefficient (MCC): %s\\n\" % mcc)\n",
    "    f.write(\"True Positive Rate (TPR): %s\\n\" % TPR)\n",
    "    f.write(\"False Positive Rate (FPR): %s\\n\" % FPR)\n"
   ]
  },
  {
   "cell_type": "code",
   "execution_count": 145,
   "metadata": {},
   "outputs": [
    {
     "data": {
      "image/png": "[encoded data removed]",
      "text/plain": [
       "<Figure size 1000x600 with 1 Axes>"
      ]
     },
     "metadata": {},
     "output_type": "display_data"
    }
   ],
   "source": [
    "mcc_values_2 = list(filtered_mcc_dict_2.values())\n",
    "thresholds_list = [thresholds, thresholds_2]\n",
    "mcc_values_list = [mcc_values, mcc_values_2]  \n",
    "best_thresholds_list = [best_threshold, best_threshold_2]\n",
    "labels = ['Train Fold 1', 'Train Fold 2']\n",
    "\n",
    "plot_mcc_vs_threshold(thresholds_list, mcc_values_list, best_thresholds_list, labels, \"mcc_vs_threshold.png\")\n"
   ]
  },
  {
   "cell_type": "markdown",
   "metadata": {},
   "source": [
    "# 10. Average the thresholds and test on the test set (30%"
   ]
  },
  {
   "cell_type": "code",
   "execution_count": 142,
   "metadata": {},
   "outputs": [
    {
     "name": "stdout",
     "output_type": "stream",
     "text": [
      "1e-07\n",
      "1e-08\n"
     ]
    }
   ],
   "source": [
    "print(best_threshold_1)\n",
    "print(best_threshold_2)"
   ]
  },
  {
   "cell_type": "code",
   "execution_count": 143,
   "metadata": {},
   "outputs": [
    {
     "data": {
      "text/plain": [
       "5.4999999999999996e-08"
      ]
     },
     "execution_count": 143,
     "metadata": {},
     "output_type": "execute_result"
    }
   ],
   "source": [
    "av_th= (best_threshold_1 + best_threshold_2) / 2\n",
    "av_th"
   ]
  },
  {
   "cell_type": "code",
   "execution_count": 144,
   "metadata": {},
   "outputs": [
    {
     "name": "stdout",
     "output_type": "stream",
     "text": [
      "Accuracy: 0.999994164809131\n",
      "Matthew Correlation Coefficient (MCC): 0.9953566978564038\n",
      "True Positive Rate (TPR): 1.0\n",
      "False Positive Rate (FPR): 5.838836436674899e-06\n",
      "\n",
      "IDs of False Positive Proteins:\n",
      "P56409\n",
      "\n",
      "IDs of False Negative Proteins:\n"
     ]
    },
    {
     "data": {
      "image/png": "[encoded data removed]",
      "text/plain": [
       "<Figure size 800x600 with 1 Axes>"
      ]
     },
     "metadata": {},
     "output_type": "display_data"
    }
   ],
   "source": [
    "import matplotlib.pyplot as plt\n",
    "import seaborn as sns\n",
    "import numpy as np\n",
    "\n",
    "predicted_df = test_df\n",
    "preds = get_data(predicted_df)  # Pass the DataFrame object to the get_data function\n",
    "\n",
    "cm, predicted_labels, true_labels = calculate_cm(preds, av_th)\n",
    "accuracy, mcc, TPR, FPR, tp, fp, tn, fn = calculate_performance_metrics(cm)\n",
    "\n",
    "plot_confusion_matrix(cm, save_path='cm_final_test_30%.png')\n",
    "\n",
    "print(\"Accuracy: %s\" % accuracy)\n",
    "print(\"Matthew Correlation Coefficient (MCC): %s\" % mcc)\n",
    "print(\"True Positive Rate (TPR): %s\" % TPR)\n",
    "print(\"False Positive Rate (FPR): %s\" % FPR)\n",
    "\n",
    "with open('final_test_30%.res', 'w') as f:\n",
    "    f.write(\"Confusion Matrix:\\n\")\n",
    "    f.write(\"%s\\n\" % cm)\n",
    "    f.write(\"Accuracy: %s\\n\" % accuracy)\n",
    "    f.write(\"Matthew Correlation Coefficient (MCC): %s\\n\" % mcc)\n",
    "    f.write(\"True Positive Rate (TPR): %s\\n\" % TPR)\n",
    "    f.write(\"False Positive Rate (FPR): %s\\n\" % FPR)\n",
    "\n",
    "#Find the IDs of false positive and false negatives\n",
    "false_positive_ids = []\n",
    "false_negative_ids = []\n",
    "\n",
    "for i in range(len(preds)):\n",
    "    protein_id = preds[i][0]\n",
    "    true_label = true_labels[i]\n",
    "    predicted_label = predicted_labels[i]\n",
    "    if predicted_label == 1 and true_label == 0:\n",
    "        false_positive_ids.append(protein_id)\n",
    "    elif predicted_label == 0 and true_label == 1:\n",
    "        false_negative_ids.append(protein_id)\n",
    "\n",
    "print(\"\\nIDs of False Positive Proteins:\")\n",
    "for protein_id in false_positive_ids:\n",
    "    print(protein_id)\n",
    "\n",
    "print(\"\\nIDs of False Negative Proteins:\")\n",
    "for protein_id in false_negative_ids:\n",
    "    print(protein_id)\n"
   ]
  }
 ],
 "metadata": {
  "kernelspec": {
   "display_name": "Python 3",
   "language": "python",
   "name": "python3"
  },
  "language_info": {
   "codemirror_mode": {
    "name": "ipython",
    "version": 3
   },
   "file_extension": ".py",
   "mimetype": "text/x-python",
   "name": "python",
   "nbconvert_exporter": "python",
   "pygments_lexer": "ipython3",
   "version": "3.12.0"
  }
 },
 "nbformat": 4,
 "nbformat_minor": 2
}
